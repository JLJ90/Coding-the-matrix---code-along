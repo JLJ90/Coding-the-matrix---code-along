{
 "cells": [
  {
   "cell_type": "markdown",
   "metadata": {},
   "source": [
    "## Coding the matrix - code along\n",
    "\n",
    "\n",
    "This will be my journal of self-teaching the fundamental mathematics behind machine learning.\n",
    "\n",
    "#### Background\n",
    "\n",
    "I am a PhD student In Food science of all things, and I have become obsessed with with all things data and IT. In 2019 this means machine learning. I have become and expert on kaggle and have taken most of the courses, so I am not a beginner when it comes to machine learning. However, I think that a deep-dive into the theory of linear algebra, and a bit more into statistics will help me. \n",
    "\n",
    "I do not have any specific qualifications in mathematics past my school days. I did take a statistics course and maths course as part of my food science degree, but it was fairly fundamental, and contained no linear algebra. I got as far as the chain rule in calculus and two-way ANOVA in statistics.\n",
    "\n",
    "I will be doing this work in the first hour of the day before I have to do my 'actual' work as a PhD student. Here is to the early birds."
   ]
  },
  {
   "cell_type": "markdown",
   "metadata": {},
   "source": [
    "### Chapter -1: matrix and vector representations\n",
    "\n",
    "Before reading on my current understanding that a vector is essentially a single list of numbers, whereas a matrix is more than one list.\n",
    "\n",
    "Thinking in terms of an Excel spreadsheet a vector could be a single cell, row or column, whereas a more than one of these.\n",
    "\n",
    "From the book; \n",
    "\n",
    "     Python programs: a vector as a function mapping a finite set D to a field\n",
    " \n",
    " I am not sure of what the author means by field here\n",
    " \n",
    " from wikipedia\n",
    " \n",
    "     In mathematics, a field is a set on which addition, subtraction, multiplication, and division are defined and behave as the corresponding operations on rational and real numbers do.\n",
    "     \n",
    "So if a think of it as sport, the each sport has its own rules and is its own field? Or in Science you say which field you're in - e.g Chemsitry?\n",
    "\n",
    "I have never thought about sperating different 'types' of mathematics before, and I don't yet understand why one would.\n",
    "\n",
    "Also, my understanding of a set is based on Pythons set(), called on a list you get an unsorted set of unique values."
   ]
  },
  {
   "cell_type": "code",
   "execution_count": 2,
   "metadata": {},
   "outputs": [
    {
     "name": "stdout",
     "output_type": "stream",
     "text": [
      "[1, 2, 3, 3, 4, 5, 4, 5, 6, 7], and a set of a {1, 2, 3, 4, 5, 6, 7}\n"
     ]
    }
   ],
   "source": [
    "a = [1,2,3,3,4,5,4,5,6,7]\n",
    "\n",
    "print(f'{a}, and a set of a {set(a)}')"
   ]
  },
  {
   "cell_type": "markdown",
   "metadata": {},
   "source": [
    "### Chapter 0: The function (and other mathematical and computational preliminaries)\n",
    "\n",
    "Notation: cheat sheet  -https://kapeli.com/cheat_sheets/LaTeX_Math_Symbols.docset/Contents/Resources/Documents/index\n",
    "\n",
    "$\\in$ is used to indicate that an element belongs to a set -- I have no idea what to call this in $latex$ it is simply \\in\n",
    "\n",
    "a set is contained within another set uses: $\\subseteq$ \\subsetq\n",
    "\n",
    "[1,2,3] $\\subseteq$ [1,2,3,4,5] \n",
    "\n",
    "in my parlance\n",
    "\n",
    "[1,2,3] isin [1,2,3,4,5]"
   ]
  },
  {
   "cell_type": "code",
   "execution_count": 7,
   "metadata": {},
   "outputs": [
    {
     "data": {
      "text/plain": [
       "True"
      ]
     },
     "execution_count": 7,
     "metadata": {},
     "output_type": "execute_result"
    }
   ],
   "source": [
    "x = 1\n",
    "y = [1,2,3,4,5]\n",
    "x in y"
   ]
  },
  {
   "cell_type": "markdown",
   "metadata": {},
   "source": [
    "The first question:\n",
    "\n",
    "What is the cardinality of A x B in examples 0.2.1?\n",
    "\n",
    "'the number of elements in a set or other grouping, as a property of that grouping.'\n",
    "\n",
    "A = {1,2,3} B = {4,5,6,7}  in the book 4,5,6 and 7 are suits of playing cards, hearts, diamonds, club, and spade\n"
   ]
  },
  {
   "cell_type": "code",
   "execution_count": 7,
   "metadata": {},
   "outputs": [],
   "source": [
    "A = [1,2,3]\n",
    "B = [4,5,6,7]\n",
    "\n",
    "cart_product = [(a,b) for a in A for b in B]"
   ]
  },
  {
   "cell_type": "markdown",
   "metadata": {},
   "source": [
    "The cardinality is the number of unique combinations\n",
    "\n",
    "    len(cart_product)"
   ]
  },
  {
   "cell_type": "code",
   "execution_count": 3,
   "metadata": {},
   "outputs": [
    {
     "data": {
      "text/plain": [
       "12"
      ]
     },
     "execution_count": 3,
     "metadata": {},
     "output_type": "execute_result"
    }
   ],
   "source": [
    "len(cart_product)"
   ]
  },
  {
   "cell_type": "markdown",
   "metadata": {},
   "source": [
    "$\\lvert$ A x B $\\rvert$ The vertical lines either side of a variable denotes cardinality $\\lvert$ A $\\rvert$\n",
    "\n",
    "#### The function\n",
    "\n",
    "A function assigns output for given input. \n",
    "   >\" The output is said to be the image of the input under the function and the input is a pre-image of the output \"\n",
    "\n",
    "I would guess that the maths was invented before cameras existed and thinking in terms of images in that way may not be appropriate.\n",
    "The *set* of possible inputs is called the **domain**, so the domain is also the pre-image?\n",
    "\n",
    "When learning new [Terminology](#Terminology) for the first time I always wonder why we don't simplify things a little. I have used functions in programmig for years and have never come across these words in this context before.\n",
    "\n",
    "for a function foo() the image of q under foo() is deonted as foo(q). If r = foo(q) we say that q maps to r under foo(). \n",
    "\n",
    "The notation for q maps to r is 'q $\\mapsto $ r' \n",
    "\n",
    "The *co-domain* for a function -- the set from which the functions output values are chosen (not quite sure why we need terminology for this.\n",
    "\n",
    "is denoted as:\n",
    "\n",
    "f: D $\\to $ F\n",
    "\n",
    "f is the function, D is the domain and F is the co-domain (a function that maps D to F)\n",
    "\n",
    "If you used sci-kit learn's normal scaler on some data the Image of the scaling would be the set of numbers between 0 and 1"
   ]
  },
  {
   "cell_type": "markdown",
   "metadata": {},
   "source": [
    "#### Functions versus procedures\n",
    "\n",
    "    'A procedure is a precise description of a computation; it accepts inputs (called arguments) and produces and output (called the return value)'\n",
    "    \n",
    "Okay, so this sounds exaclty like what I would consider a *function* in programming... In the book they do say \" In the hope of avoiding confusion, we diverge from the common practice of referring to procedures as functions'\n",
    "\n",
    "Things are about to get confusing I suspect.\n",
    "\n",
    "    'A computational problem is an input-output specification that a procedure might be required to satisfy'\n",
    "    \n",
    "So, if I have this right"
   ]
  },
  {
   "cell_type": "code",
   "execution_count": 9,
   "metadata": {},
   "outputs": [],
   "source": [
    "def a_procedure(input_x, input_y):\n",
    "    computational_problem = input_x * input_y\n",
    "    computational_problem = output\n",
    "    \n",
    "    return  f'{output}, also known as the image?'\n",
    "    "
   ]
  },
  {
   "cell_type": "markdown",
   "metadata": {},
   "source": [
    "\n",
    "### Terminology  \n",
    " \n",
    "Image = the output\n",
    " \n",
    "Pre-image = the input\n",
    "\n",
    "domain = set of inputs\n",
    "\n",
    "co-domian = set from which the outputs are chosen\n",
    "\n",
    "procedure = a function, that \n",
    "\n",
    "function = as far as I can tell it is the same as a procedure."
   ]
  },
  {
   "cell_type": "markdown",
   "metadata": {},
   "source": [
    "At this point we may as well make a notation box [notation](#Notation)"
   ]
  },
  {
   "cell_type": "markdown",
   "metadata": {},
   "source": [
    "### Notation\n",
    "\n",
    "$\\lvert$ A x B $\\rvert$ The vertical lines either side of a variable denotes cardinality $\\lvert$ A $\\rvert$\n",
    "\n",
    "$\\in$ is used to indicate that an element belongs to a set -- I have no idea what to call this in $latex$ it is simply \\in\n",
    "\n",
    "The notation for q maps to r is 'q $\\mapsto $ r' \n",
    "\n",
    "The *co-domain* for a function -- the set from which the functions output values are chosen (not quite sure why we need terminology for this.\n",
    "\n",
    "is denoted as:\n",
    "\n",
    "f: D $\\to $ F\n",
    "\n",
    "f is the function, D is the domain and F is the co-domain (a function that maps D to F)\n",
    "\n",
    "The notation for the set of functions with given domain and co-domain:\n",
    "for sets *D and F* , we use the notation *F<sup>D</sup>* - all functions from D to F.\n",
    " \n",
    "#### Identity function\n",
    "\n",
    "For any Domain *D*, there is a function id<sub>D</sub>: D $\\mapsto $ D called the identity function for D, defined:\n",
    "\n",
    "id<sub>D</sub>(d) = d for every d $\\in$ D\n",
    "\n",
    "In normal words? - for any set of inputs there is a function called the *identity function* that maps the domain to the domain, so the output is always the same as the input. Not sure why this is needed either.\n",
    "\n",
    "#### Composition of functions\n",
    "\n",
    "Combine two or more functions to get another function"
   ]
  },
  {
   "cell_type": "markdown",
   "metadata": {},
   "source": [
    "From the two questions given in the book:\n",
    "\n",
    "The forward problem: Given and element *a* of *f*'s domain, compute f(a), the image of a under *f*\n",
    "\n",
    "The backwards problem: Given an element *r* of the co-domain of the function, compute any pre-image (or report that none exists)\n",
    "\n",
    "**In my own words**\n",
    "\n",
    "The forward problem: what is the output when feeding *a* into the function *f*\n",
    "\n",
    "The backwards problem: What is the input, considering the output *r*\n",
    "\n",
    "I guess that the backwards problem is more difficult seeing as we don't know which set was used? "
   ]
  },
  {
   "cell_type": "markdown",
   "metadata": {},
   "source": [
    "### At this point of the book, page 26, I realised tht I had fallen into the trap of just copying out stuff and trying learn everything in order. This never works for. I have decided to skip a lot to terminology and come back to it when it is necessary. Besides it is not like it is all going into my brain anyway.\n",
    "\n",
    "I have skipped to the 'labs' at the end of the chapters to questions I don't know the answer to"
   ]
  },
  {
   "cell_type": "markdown",
   "metadata": {},
   "source": [
    "Task 0.5.7: The value of the previous comprehension,  {x*y for x in {1,2,3} for y in {2,3,4}}  is a seven-element set. Replace {1,2,3} and {2,3,4} with two other three-element sets  so that the value becomes a nine-element set. \n",
    "\n",
    "Klein, Philip. Coding the Matrix: Linear Algebra through Computer Science Applications (p. 48). Newtonian Press. Kindle Edition. "
   ]
  },
  {
   "cell_type": "code",
   "execution_count": 1,
   "metadata": {},
   "outputs": [
    {
     "data": {
      "text/plain": [
       "{10, 12, 14, 15, 18, 20, 21, 24, 28}"
      ]
     },
     "execution_count": 1,
     "metadata": {},
     "output_type": "execute_result"
    }
   ],
   "source": [
    "{x*y for x in {2,3,4} for y in {5,6,7}}"
   ]
  },
  {
   "cell_type": "markdown",
   "metadata": {},
   "source": [
    "Task 0.5.8: Replace {1,2,3} and {2,3,4} in the previous comprehension with two disjoint (i.e. non-overlapping) three-element sets so that the value becomes a five-element  set. \n",
    "\n",
    "Klein, Philip. Coding the Matrix: Linear Algebra through Computer Science Applications (p. 48). Newtonian Press. Kindle Edition. "
   ]
  },
  {
   "cell_type": "code",
   "execution_count": 17,
   "metadata": {},
   "outputs": [
    {
     "data": {
      "text/plain": [
       "{0, 8, 12, 18, 27}"
      ]
     },
     "execution_count": 17,
     "metadata": {},
     "output_type": "execute_result"
    }
   ],
   "source": [
    "{x*y for x in {0,2,3} for y in {4,6,9}}"
   ]
  },
  {
   "cell_type": "markdown",
   "metadata": {},
   "source": [
    "Task 0.5.9: Assume that S and T are assigned sets. Without using the intersection operator &, write a comprehension over S whose value is the intersection of S and T. Hint: Use  a membership test in a filter at the end of the comprehension.  Try out your comprehension with S = {1,2,3,4} and T = {3,4,5,6}. \n",
    "\n",
    "Klein, Philip. Coding the Matrix: Linear Algebra through Computer Science Applications (p. 49). Newtonian Press. Kindle Edition. "
   ]
  },
  {
   "cell_type": "code",
   "execution_count": 19,
   "metadata": {},
   "outputs": [
    {
     "data": {
      "text/plain": [
       "{3, 4}"
      ]
     },
     "execution_count": 19,
     "metadata": {},
     "output_type": "execute_result"
    }
   ],
   "source": [
    "S = {1,2,3,4} \n",
    "T = {3,4,5,6}\n",
    "\n",
    "# THe intersection is 3 and 4?\n",
    "\n",
    "{i for i in S if i in T}"
   ]
  },
  {
   "cell_type": "code",
   "execution_count": null,
   "metadata": {},
   "outputs": [],
   "source": []
  }
 ],
 "metadata": {
  "kernelspec": {
   "display_name": "Python 3",
   "language": "python",
   "name": "python3"
  },
  "language_info": {
   "codemirror_mode": {
    "name": "ipython",
    "version": 3
   },
   "file_extension": ".py",
   "mimetype": "text/x-python",
   "name": "python",
   "nbconvert_exporter": "python",
   "pygments_lexer": "ipython3",
   "version": "3.7.3"
  }
 },
 "nbformat": 4,
 "nbformat_minor": 2
}
