{
 "cells": [
  {
   "cell_type": "markdown",
   "metadata": {},
   "source": [
    "## Coding the matrix - code along\n",
    "\n",
    "\n",
    "This will be my journal of self-teaching the fundamental mathematics behind machine learning.\n",
    "\n",
    "#### Background\n",
    "\n",
    "I am a PhD student In Food science of all things, and I have become obsessed with with all things data and IT. In 2019 this means machine learning. I have become and expert on kaggle and have taken most of the courses, so I am not a beginner when it comes to machine learning. However, I think that a deep-dive into the theory of linear algebra, and a bit more into statistics will help me. \n",
    "\n",
    "I do not have any specific qualifications in mathematics past my school days. I did take a statistics course and maths course as part of my food science degree, but it was fairly fundamental, and contained no linear algebra. I got as far as the chain rule in calculus and two-way ANOVA in statistics.\n",
    "\n",
    "I will be doing this work in the first hour of the day before I have to do my 'actual' work as a PhD student. Here is to the early birds."
   ]
  },
  {
   "cell_type": "markdown",
   "metadata": {},
   "source": [
    "### Chapter -1: matrix and vector representations\n",
    "\n",
    "Before reading on my current understanding that a vector is essentially a single list of numbers, whereas a matrix is more than one list.\n",
    "\n",
    "Thinking in terms of an Excel spreadsheet a vector could be a single cell, row or column, whereas a more than one of these.\n",
    "\n",
    "From the book; \n",
    "\n",
    "     Python programs: a vector as a function mapping a finite set D to a field\n",
    " \n",
    " I am not sure of what the author means by field here\n",
    " \n",
    " from wikipedia\n",
    " \n",
    "     In mathematics, a field is a set on which addition, subtraction, multiplication, and division are defined and behave as the corresponding operations on rational and real numbers do.\n",
    "     \n",
    "So if a think of it as sport, the each sport has its own rules and is its own field? Or in Science you say which field you're in - e.g Chemsitry?\n",
    "\n",
    "I have never thought about sperating different 'types' of mathematics before, and I don't yet understand why one would.\n",
    "\n",
    "Also, my understanding of a set is based on Pythons set(), called on a list you get an unsorted set of unique values."
   ]
  },
  {
   "cell_type": "code",
   "execution_count": 2,
   "metadata": {},
   "outputs": [
    {
     "name": "stdout",
     "output_type": "stream",
     "text": [
      "[1, 2, 3, 3, 4, 5, 4, 5, 6, 7], and a set of a {1, 2, 3, 4, 5, 6, 7}\n"
     ]
    }
   ],
   "source": [
    "a = [1,2,3,3,4,5,4,5,6,7]\n",
    "\n",
    "print(f'{a}, and a set of a {set(a)}')"
   ]
  },
  {
   "cell_type": "markdown",
   "metadata": {},
   "source": [
    "### Chapter 0: The function (and other mathematical and computational preliminaries)\n",
    "\n",
    "Notation: cheat sheet  -https://kapeli.com/cheat_sheets/LaTeX_Math_Symbols.docset/Contents/Resources/Documents/index\n",
    "\n",
    "$\\in$ is used to indicate that an element belongs to a set -- I have no idea what to call this in $latex$ it is simply \\in\n",
    "\n",
    "a set is contained within another set uses: $\\subseteq$ \\subsetq\n",
    "\n",
    "[1,2,3] $\\subseteq$ [1,2,3,4,5] \n",
    "\n",
    "in my parlance\n",
    "\n",
    "[1,2,3] isin [1,2,3,4,5]"
   ]
  },
  {
   "cell_type": "code",
   "execution_count": 7,
   "metadata": {},
   "outputs": [
    {
     "data": {
      "text/plain": [
       "True"
      ]
     },
     "execution_count": 7,
     "metadata": {},
     "output_type": "execute_result"
    }
   ],
   "source": [
    "x = 1\n",
    "y = [1,2,3,4,5]\n",
    "x in y"
   ]
  },
  {
   "cell_type": "markdown",
   "metadata": {},
   "source": [
    "The first question:\n",
    "\n",
    "What is the cardinality of A x B in examples 0.2.1?\n",
    "\n",
    "'the number of elements in a set or other grouping, as a property of that grouping.'\n",
    "\n",
    "A = {1,2,3} B = {4,5,6,7}  in the book 4,5,6 and 7 are suits of playing cards, hearts, diamonds, club, and spade\n"
   ]
  },
  {
   "cell_type": "code",
   "execution_count": 7,
   "metadata": {},
   "outputs": [],
   "source": [
    "A = [1,2,3]\n",
    "B = [4,5,6,7]\n",
    "\n",
    "cart_product = [(a,b) for a in A for b in B]"
   ]
  },
  {
   "cell_type": "markdown",
   "metadata": {},
   "source": [
    "The cardinality is the number of unique combinations\n",
    "\n",
    "    len(cart_product)"
   ]
  },
  {
   "cell_type": "code",
   "execution_count": 3,
   "metadata": {},
   "outputs": [
    {
     "data": {
      "text/plain": [
       "12"
      ]
     },
     "execution_count": 3,
     "metadata": {},
     "output_type": "execute_result"
    }
   ],
   "source": [
    "len(cart_product)"
   ]
  },
  {
   "cell_type": "markdown",
   "metadata": {},
   "source": [
    "$\\lvert$ A x B $\\rvert$ The vertical lines either side of a variable denotes cardinality $\\lvert$ A $\\rvert$\n",
    "\n",
    "#### The function\n",
    "\n",
    "A function assigns output for given input. \n",
    "   >\" The output is said to be the image of the input under the function and the input is a pre-image of the output \"\n",
    "\n",
    "I would guess that the maths was invented before cameras existed and thinking in terms of images in that way may not be appropriate.\n",
    "The *set* of possible inputs is called the **domain**, so the domain is also the pre-image?\n",
    "\n",
    "When learning new [Terminology](#Terminology) for the first time I always wonder why we don't simplify things a little. I have used functions in programmig for years and have never come across these words in this context before.\n",
    "\n",
    "for a function foo() the image of q under foo() is deonted as foo(q). If r = foo(q) we say that q maps to r under foo(). \n",
    "\n",
    "The notation for q maps to r is 'q $\\mapsto $ r' \n",
    "\n",
    "The *co-domain* for a function -- the set from which the functions output values are chosen (not quite sure why we need terminology for this.\n",
    "\n",
    "is denoted as:\n",
    "\n",
    "f: D $\\to $ F\n",
    "\n",
    "f is the function, D is the domain and F is the co-domain (a function that maps D to F)\n",
    "\n",
    "If you used sci-kit learn's normal scaler on some data the Image of the scaling would be the set of numbers between 0 and 1"
   ]
  },
  {
   "cell_type": "markdown",
   "metadata": {},
   "source": [
    "#### Functions versus procedures\n",
    "\n",
    "    'A procedure is a precise description of a computation; it accepts inputs (called arguments) and produces and output (called the return value)'\n",
    "    \n",
    "Okay, so this sounds exaclty like what I would consider a *function* in programming... In the book they do say \" In the hope of avoiding confusion, we diverge from the common practice of referring to procedures as functions'\n",
    "\n",
    "Things are about to get confusing I suspect.\n",
    "\n",
    "    'A computational problem is an input-output specification that a procedure might be required to satisfy'\n",
    "    \n",
    "So, if I have this right"
   ]
  },
  {
   "cell_type": "code",
   "execution_count": 9,
   "metadata": {},
   "outputs": [],
   "source": [
    "def a_procedure(input_x, input_y):\n",
    "    computational_problem = input_x * input_y\n",
    "    computational_problem = output\n",
    "    \n",
    "    return  f'{output}, also known as the image?'\n",
    "    "
   ]
  },
  {
   "cell_type": "markdown",
   "metadata": {},
   "source": [
    "\n",
    "### Terminology  \n",
    " \n",
    "Image = the output\n",
    " \n",
    "Pre-image = the input\n",
    "\n",
    "domain = set of inputs\n",
    "\n",
    "co-domian = set from which the outputs are chosen\n",
    "\n",
    "procedure = a function, that \n",
    "\n",
    "function = as far as I can tell it is the same as a procedure."
   ]
  },
  {
   "cell_type": "markdown",
   "metadata": {},
   "source": [
    "At this point we may as well make a notation box [notation](#Notation)"
   ]
  },
  {
   "cell_type": "markdown",
   "metadata": {},
   "source": [
    "### Notation\n",
    "\n",
    "$\\lvert$ A x B $\\rvert$ The vertical lines either side of a variable denotes cardinality $\\lvert$ A $\\rvert$\n",
    "\n",
    "$\\in$ is used to indicate that an element belongs to a set -- I have no idea what to call this in $latex$ it is simply \\in\n",
    "\n",
    "The notation for q maps to r is 'q $\\mapsto $ r' \n",
    "\n",
    "The *co-domain* for a function -- the set from which the functions output values are chosen (not quite sure why we need terminology for this.\n",
    "\n",
    "is denoted as:\n",
    "\n",
    "f: D $\\to $ F\n",
    "\n",
    "f is the function, D is the domain and F is the co-domain (a function that maps D to F)\n",
    "\n",
    "The notation for the set of functions with given domain and co-domain:\n",
    "for sets *D and F* , we use the notation *F<sup>D</sup>* - all functions from D to F.\n",
    " \n",
    "#### Identity function\n",
    "\n",
    "For any Domain *D*, there is a function id<sub>D</sub>: D $\\mapsto $ D called the identity function for D, defined:\n",
    "\n",
    "id<sub>D</sub>(d) = d for every d $\\in$ D\n",
    "\n",
    "In normal words? - for any set of inputs there is a function called the *identity function* that maps the domain to the domain, so the output is always the same as the input. Not sure why this is needed either.\n",
    "\n",
    "#### Composition of functions\n",
    "\n",
    "Combine two or more functions to get another function"
   ]
  },
  {
   "cell_type": "markdown",
   "metadata": {},
   "source": [
    "From the two questions given in the book:\n",
    "\n",
    "The forward problem: Given and element *a* of *f*'s domain, compute f(a), the image of a under *f*\n",
    "\n",
    "The backwards problem: Given an element *r* of the co-domain of the function, compute any pre-image (or report that none exists)\n",
    "\n",
    "**In my own words**\n",
    "\n",
    "The forward problem: what is the output when feeding *a* into the function *f*\n",
    "\n",
    "The backwards problem: What is the input, considering the output *r*\n",
    "\n",
    "I guess that the backwards problem is more difficult seeing as we don't know which set was used? "
   ]
  },
  {
   "cell_type": "markdown",
   "metadata": {},
   "source": [
    "### At this point of the book, page 26, I realised tht I had fallen into the trap of just copying out stuff and trying learn everything in order. This never works for. I have decided to skip a lot to terminology and come back to it when it is necessary. Besides it is not like it is all going into my brain anyway.\n",
    "\n",
    "I have skipped to the 'labs' at the end of the chapters to questions I don't know the answer to"
   ]
  },
  {
   "cell_type": "markdown",
   "metadata": {},
   "source": [
    "Task 0.5.7: The value of the previous comprehension,  {x*y for x in {1,2,3} for y in {2,3,4}}  is a seven-element set. Replace {1,2,3} and {2,3,4} with two other three-element sets  so that the value becomes a nine-element set. \n",
    "\n",
    "Klein, Philip. Coding the Matrix: Linear Algebra through Computer Science Applications (p. 48). Newtonian Press. Kindle Edition. "
   ]
  },
  {
   "cell_type": "code",
   "execution_count": 1,
   "metadata": {},
   "outputs": [
    {
     "data": {
      "text/plain": [
       "{10, 12, 14, 15, 18, 20, 21, 24, 28}"
      ]
     },
     "execution_count": 1,
     "metadata": {},
     "output_type": "execute_result"
    }
   ],
   "source": [
    "{x*y for x in {2,3,4} for y in {5,6,7}}"
   ]
  },
  {
   "cell_type": "markdown",
   "metadata": {},
   "source": [
    "Task 0.5.8: Replace {1,2,3} and {2,3,4} in the previous comprehension with two disjoint (i.e. non-overlapping) three-element sets so that the value becomes a five-element  set. \n",
    "\n",
    "Klein, Philip. Coding the Matrix: Linear Algebra through Computer Science Applications (p. 48). Newtonian Press. Kindle Edition. "
   ]
  },
  {
   "cell_type": "code",
   "execution_count": 17,
   "metadata": {},
   "outputs": [
    {
     "data": {
      "text/plain": [
       "{0, 8, 12, 18, 27}"
      ]
     },
     "execution_count": 17,
     "metadata": {},
     "output_type": "execute_result"
    }
   ],
   "source": [
    "{x*y for x in {0,2,3} for y in {4,6,9}}"
   ]
  },
  {
   "cell_type": "markdown",
   "metadata": {},
   "source": [
    "Task 0.5.9: Assume that S and T are assigned sets. Without using the intersection operator &, write a comprehension over S whose value is the intersection of S and T. Hint: Use  a membership test in a filter at the end of the comprehension.  Try out your comprehension with S = {1,2,3,4} and T = {3,4,5,6}. \n",
    "\n",
    "Klein, Philip. Coding the Matrix: Linear Algebra through Computer Science Applications (p. 49). Newtonian Press. Kindle Edition. "
   ]
  },
  {
   "cell_type": "code",
   "execution_count": 19,
   "metadata": {},
   "outputs": [
    {
     "data": {
      "text/plain": [
       "{3, 4}"
      ]
     },
     "execution_count": 19,
     "metadata": {},
     "output_type": "execute_result"
    }
   ],
   "source": [
    "S = {1,2,3,4} \n",
    "T = {3,4,5,6}\n",
    "\n",
    "# THe intersection is 3 and 4?\n",
    "\n",
    "{i for i in S if i in T} # for element in this set, add it to the new set if the element is also in the other set"
   ]
  },
  {
   "cell_type": "markdown",
   "metadata": {},
   "source": [
    "Task 0.5.18: Write a comprehension over a range of the form range(n) such that the  value of the comprehension is the set of odd numbers from 1 to 99. \n",
    "\n",
    "Klein, Philip. Coding the Matrix: Linear Algebra through Computer Science Applications (p. 56). Newtonian Press. Kindle Edition. "
   ]
  },
  {
   "cell_type": "code",
   "execution_count": 3,
   "metadata": {},
   "outputs": [
    {
     "data": {
      "text/plain": [
       "[1, 3, 5, 7, 9]"
      ]
     },
     "execution_count": 3,
     "metadata": {},
     "output_type": "execute_result"
    }
   ],
   "source": [
    "n = 10 # replace to 100 for correct answer\n",
    "[i for i in range(n) if i%2 !=0]"
   ]
  },
  {
   "cell_type": "markdown",
   "metadata": {},
   "source": [
    "Task 0.5.19: Assign to L the list consisting of the first five letters ['A','B','C','D','E'].  Next, use L in an expression whose value is  [(0, ’A’), (1, ’B’), (2, ’C’), (3, ’D’), (4, ’E’)]  Your expression should use a range and a zip, but should not use a comprehension. \n",
    "\n",
    "Klein, Philip. Coding the Matrix: Linear Algebra through Computer Science Applications (p. 57). Newtonian Press. Kindle Edition. "
   ]
  },
  {
   "cell_type": "code",
   "execution_count": 5,
   "metadata": {},
   "outputs": [
    {
     "data": {
      "text/plain": [
       "[(0, 'A'), (1, 'B'), (2, 'C'), (3, 'D'), (4, 'E')]"
      ]
     },
     "execution_count": 5,
     "metadata": {},
     "output_type": "execute_result"
    }
   ],
   "source": [
    "L = ['A','B','C','D','E']\n",
    "list(zip(range(5),L)) # I think this is what is wanted"
   ]
  },
  {
   "cell_type": "markdown",
   "metadata": {},
   "source": [
    "Task 0.5.20: Starting from the lists [10, 25, 40] and [1, 15, 20], write a comprehension whose value is the three-element list in which the first element is the sum of 10  and 1, the second is the sum of 25 and 15, and the third is the sum of 40 and 20. Your  expression should use zip but not list. \n",
    "\n",
    "Klein, Philip. Coding the Matrix: Linear Algebra through Computer Science Applications (p. 57). Newtonian Press. Kindle Edition. "
   ]
  },
  {
   "cell_type": "code",
   "execution_count": 11,
   "metadata": {},
   "outputs": [
    {
     "data": {
      "text/plain": [
       "[11, 40, 60]"
      ]
     },
     "execution_count": 11,
     "metadata": {},
     "output_type": "execute_result"
    }
   ],
   "source": [
    "a = [10, 25, 40]\n",
    "b = [1, 15, 20]\n",
    "\n",
    "[i[0] +i[1] for i in zip(a,b)]"
   ]
  },
  {
   "cell_type": "markdown",
   "metadata": {},
   "source": [
    "Doing a few of these questions I am reminded of my school days where understanding what the person asking the question wants is the primary challenge, solving the problem is relatively trivial.\n",
    "\n",
    "Task 0.5.24: Assign some set to the variable D, e.g D = {'red','white','blue'}. Now write a comprehension that evaluates to a dictionary that represents the identity function on D."
   ]
  },
  {
   "cell_type": "code",
   "execution_count": 1,
   "metadata": {},
   "outputs": [
    {
     "data": {
      "text/plain": [
       "{'white': 'white', 'blue': 'blue', 'red': 'red'}"
      ]
     },
     "execution_count": 1,
     "metadata": {},
     "output_type": "execute_result"
    }
   ],
   "source": [
    "D = {'red','white','blue'} # An Identity function has the same input as output, so 'red':'red'\n",
    "\n",
    "{i:i for i in D}"
   ]
  },
  {
   "cell_type": "markdown",
   "metadata": {},
   "source": [
    "Task 0.5.26: Suppose d is a dictionary that maps some employee IDs (a subset of the  integers from 0 to n − 1) to salaries. Suppose L is an n-element list whose i th element is  the name of employee number i. Your goal is to write a comprehension whose value is a  dictionary mapping employee names to salaries. You can assume that employee names are  distinct.  Test your comprehension with the following data:  \n",
    "\n",
    "id2salary = {0:1000.0, 3:990, 1:1200.50}  names = ['Larry', 'Curly','', 'Moe'] \n",
    "\n",
    "Klein, Philip. Coding the Matrix: Linear Algebra through Computer Science Applications (p. 61). Newtonian Press. Kindle Edition. "
   ]
  },
  {
   "cell_type": "code",
   "execution_count": 23,
   "metadata": {},
   "outputs": [
    {
     "data": {
      "text/plain": [
       "{'Larry': 1000.0, 'Moe': 990, 'Curly': 1200.5}"
      ]
     },
     "execution_count": 23,
     "metadata": {},
     "output_type": "execute_result"
    }
   ],
   "source": [
    "# first of all there is an empty name in the list of names, \n",
    "# but that shouldn't matter as it is the 2nd element which we don't have data for\n",
    "\n",
    "id2salary = {0:1000.0, 3:990, 1:1200.50}  \n",
    "names = ['Larry', 'Curly','', 'Moe']\n",
    "\n",
    "\n",
    "{names[i]:id2salary[i] for i in id2salary.keys()} # this took me far longer than I expected"
   ]
  },
  {
   "cell_type": "markdown",
   "metadata": {},
   "source": [
    "#### One line procedures\n",
    "\n",
    "The procedure *twice*: $\\Re$ $\\mapsto$ $\\Re$\n",
    "\n",
    "def twice(z): return 2*z\n",
    "\n",
    "the variable z is called the *formal argumant* to the procedure"
   ]
  },
  {
   "cell_type": "markdown",
   "metadata": {},
   "source": [
    "Task 0.5.31: Define a one-line procedure list2dict(L, keylist) specified as follows:  • input: list L, list keylist of immutable items  • output: dictionary that maps keylist[i] to L[i] for i = 0, 1, 2,..., len(L) − 1  • example: input L=[’A’,’B’,’C’] and keylist=[’a’,’b’,’c’],  output {'a':'A', 'b':'B', 'c':'C'} \n",
    "\n",
    "Klein, Philip. Coding the Matrix: Linear Algebra through Computer Science Applications (p. 62). Newtonian Press. Kindle Edition. "
   ]
  },
  {
   "cell_type": "code",
   "execution_count": 7,
   "metadata": {},
   "outputs": [
    {
     "data": {
      "text/plain": [
       "{'a': 'A', 'b': 'B', 'c': 'C'}"
      ]
     },
     "execution_count": 7,
     "metadata": {},
     "output_type": "execute_result"
    }
   ],
   "source": [
    "def list2dict(L, keylist): return dict(zip(keylist,L))\n",
    "list2dict(['A','B','C'],['a','b','c'])"
   ]
  },
  {
   "cell_type": "code",
   "execution_count": 8,
   "metadata": {},
   "outputs": [
    {
     "data": {
      "text/plain": [
       "{'a': 'A', 'b': 'B', 'c': 'C'}"
      ]
     },
     "execution_count": 8,
     "metadata": {},
     "output_type": "execute_result"
    }
   ],
   "source": [
    "def list2dict(L, keylist): return { keylist[i]:L[i] for i in range(len(L)) }\n",
    "list2dict(['A','B','C'],['a','b','c'])"
   ]
  },
  {
   "cell_type": "markdown",
   "metadata": {},
   "source": [
    "0.7 Review questions  \n",
    "• What does the notation f: A −→ B mean?  \n",
    "\n",
    "    A is the domain and B is the co-domian, Input A maps to output B.\n",
    "\n",
    "• What are the criteria for f to be an invertible function?  \n",
    "\n",
    "    I have just realised this is where I got bored and skipped to the questions and therefore don't know any of this.\n",
    "    B would have to be able to be mapped to A\n",
    "\n",
    "• What is associativity of functional composition?  (had to google)\n",
    "\n",
    "    Associative - you can add or mulitiply regardless of how the numbers are grouped e.g a + (b + c) == (a + b) + c. I do not understand the notation for this, but will accept it at face value. I am not sure why it is an important concept\n",
    "\n",
    "• What are the criteria for a function to be a probability function?  \n",
    "\n",
    "        Looking back through the book I don't see where the answer would come from. From the dictionary: a function of a discrete random variable that gives the probability that the outcome associated with that variable will occur\n",
    "\n",
    "• What is the Fundamental Principle of Probability Theory?  \n",
    "\n",
    "    Principle 0.4.5: The probability of an event is the sum of probabilities of the outcomes making up the event\n",
    "\n",
    "• If the input to an invertible function is chosen randomly according to the uniform distribution, what is the distribution of the output? \n",
    "\n",
    "    The output should also be considered random\n",
    "\n",
    "Klein, Philip. Coding the Matrix: Linear Algebra through Computer Science Applications (p. 69). Newtonian Press. Kindle Edition. \n",
    "\n",
    "\n",
    "I don't look forward to instantly forgetting all of this"
   ]
  },
  {
   "cell_type": "code",
   "execution_count": null,
   "metadata": {},
   "outputs": [],
   "source": []
  }
 ],
 "metadata": {
  "kernelspec": {
   "display_name": "Python 3",
   "language": "python",
   "name": "python3"
  },
  "language_info": {
   "codemirror_mode": {
    "name": "ipython",
    "version": 3
   },
   "file_extension": ".py",
   "mimetype": "text/x-python",
   "name": "python",
   "nbconvert_exporter": "python",
   "pygments_lexer": "ipython3",
   "version": "3.7.3"
  }
 },
 "nbformat": 4,
 "nbformat_minor": 2
}
